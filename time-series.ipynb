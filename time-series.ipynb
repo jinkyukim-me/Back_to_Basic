{
 "cells": [
  {
   "cell_type": "code",
   "execution_count": 1,
   "metadata": {
    "ExecuteTime": {
     "end_time": "2019-11-06T13:37:24.009974Z",
     "start_time": "2019-11-06T13:37:17.795602Z"
    }
   },
   "outputs": [
    {
     "name": "stderr",
     "output_type": "stream",
     "text": [
      "Using TensorFlow backend.\n"
     ]
    }
   ],
   "source": [
    "import numpy\n",
    "import matplotlib.pyplot as plt\n",
    "import pandas\n",
    "import math\n",
    "from keras.models import Sequential\n",
    "from keras.layers import Dense\n",
    "from keras.layers import LSTM\n",
    "from sklearn.preprocessing import MinMaxScaler\n",
    "from sklearn.metrics import mean_squared_error"
   ]
  },
  {
   "cell_type": "code",
   "execution_count": 2,
   "metadata": {
    "ExecuteTime": {
     "end_time": "2019-11-06T13:37:24.015934Z",
     "start_time": "2019-11-06T13:37:24.011941Z"
    }
   },
   "outputs": [],
   "source": [
    "# fix random seed for reproducibility\n",
    "numpy.random.seed(7)"
   ]
  },
  {
   "cell_type": "code",
   "execution_count": 3,
   "metadata": {
    "ExecuteTime": {
     "end_time": "2019-11-06T13:37:24.037869Z",
     "start_time": "2019-11-06T13:37:24.018918Z"
    }
   },
   "outputs": [],
   "source": [
    "# load the dataset\n",
    "dataframe = pandas.read_csv('international-airline-passengers.csv', usecols=[1], engine='python', skipfooter=3)\n",
    "dataset = dataframe.values\n",
    "dataset = dataset.astype('float32')"
   ]
  },
  {
   "cell_type": "code",
   "execution_count": 4,
   "metadata": {
    "ExecuteTime": {
     "end_time": "2019-11-06T13:37:24.045835Z",
     "start_time": "2019-11-06T13:37:24.040863Z"
    }
   },
   "outputs": [],
   "source": [
    "# normalize the dataset\n",
    "scaler = MinMaxScaler(feature_range=(0, 1))\n",
    "dataset = scaler.fit_transform(dataset)"
   ]
  },
  {
   "cell_type": "code",
   "execution_count": 6,
   "metadata": {
    "ExecuteTime": {
     "end_time": "2019-11-06T13:37:49.381539Z",
     "start_time": "2019-11-06T13:37:49.375555Z"
    }
   },
   "outputs": [
    {
     "name": "stdout",
     "output_type": "stream",
     "text": [
      "train_data_size: 94  test_data_size: 47\n"
     ]
    }
   ],
   "source": [
    "# split into train and test sets\n",
    "train_size = int(len(dataset) * 0.67)\n",
    "test_size = len(dataset) - train_size\n",
    "train, test = dataset[0:train_size,:], dataset[train_size:len(dataset),:]\n",
    "print(\"train_data_size: \" + str(len(train)), \" test_data_size: \"+str(len(test)))"
   ]
  },
  {
   "cell_type": "code",
   "execution_count": 7,
   "metadata": {
    "ExecuteTime": {
     "end_time": "2019-11-06T13:37:51.910769Z",
     "start_time": "2019-11-06T13:37:51.904786Z"
    }
   },
   "outputs": [],
   "source": [
    "# convert an array of values into a dataset matrix\n",
    "def create_dataset(dataset, look_back=1):\n",
    "    dataX, dataY = [], []\n",
    "    for i in range(len(dataset)-look_back-1):\n",
    "\t    a = dataset[i:(i+look_back), 0]\n",
    "\t    dataX.append(a)\n",
    "\t    dataY.append(dataset[i + look_back, 0])\n",
    "    return numpy.array(dataX), numpy.array(dataY)"
   ]
  },
  {
   "cell_type": "code",
   "execution_count": 8,
   "metadata": {
    "ExecuteTime": {
     "end_time": "2019-11-06T13:37:52.067355Z",
     "start_time": "2019-11-06T13:37:52.062364Z"
    }
   },
   "outputs": [],
   "source": [
    "# reshape into X=t and Y=t+1\n",
    "look_back = 1\n",
    "trainX, trainY = create_dataset(train, look_back)\n",
    "testX, testY = create_dataset(test, look_back)"
   ]
  },
  {
   "cell_type": "code",
   "execution_count": 9,
   "metadata": {
    "ExecuteTime": {
     "end_time": "2019-11-06T13:37:52.246870Z",
     "start_time": "2019-11-06T13:37:52.241884Z"
    }
   },
   "outputs": [],
   "source": [
    "# reshape input to be [samples, time steps, features]\n",
    "trainX = numpy.reshape(trainX, (trainX.shape[0], 1, trainX.shape[1]))\n",
    "testX = numpy.reshape(testX, (testX.shape[0], 1, testX.shape[1]))"
   ]
  },
  {
   "cell_type": "code",
   "execution_count": 12,
   "metadata": {
    "ExecuteTime": {
     "end_time": "2019-11-06T13:38:48.232579Z",
     "start_time": "2019-11-06T13:38:27.905284Z"
    }
   },
   "outputs": [
    {
     "name": "stderr",
     "output_type": "stream",
     "text": [
      "C:\\Users\\go2th\\Miniconda3\\envs\\tensorflow\\lib\\site-packages\\ipykernel_launcher.py:3: UserWarning: The `input_dim` and `input_length` arguments in recurrent layers are deprecated. Use `input_shape` instead.\n",
      "  This is separate from the ipykernel package so we can avoid doing imports until\n",
      "C:\\Users\\go2th\\Miniconda3\\envs\\tensorflow\\lib\\site-packages\\ipykernel_launcher.py:3: UserWarning: Update your `LSTM` call to the Keras 2 API: `LSTM(4, input_shape=(None, 1))`\n",
      "  This is separate from the ipykernel package so we can avoid doing imports until\n"
     ]
    },
    {
     "name": "stdout",
     "output_type": "stream",
     "text": [
      "Epoch 1/100\n",
      " - 1s - loss: 0.0447 - acc: 0.0109\n",
      "Epoch 2/100\n",
      " - 0s - loss: 0.0235 - acc: 0.0109\n",
      "Epoch 3/100\n",
      " - 0s - loss: 0.0170 - acc: 0.0109\n",
      "Epoch 4/100\n",
      " - 0s - loss: 0.0154 - acc: 0.0109\n",
      "Epoch 5/100\n",
      " - 0s - loss: 0.0146 - acc: 0.0109\n",
      "Epoch 6/100\n",
      " - 0s - loss: 0.0140 - acc: 0.0109\n",
      "Epoch 7/100\n",
      " - 0s - loss: 0.0132 - acc: 0.0109\n",
      "Epoch 8/100\n",
      " - 0s - loss: 0.0124 - acc: 0.0109\n",
      "Epoch 9/100\n",
      " - 0s - loss: 0.0114 - acc: 0.0109\n",
      "Epoch 10/100\n",
      " - 0s - loss: 0.0106 - acc: 0.0109\n",
      "Epoch 11/100\n",
      " - 0s - loss: 0.0095 - acc: 0.0109\n",
      "Epoch 12/100\n",
      " - 0s - loss: 0.0085 - acc: 0.0109\n",
      "Epoch 13/100\n",
      " - 0s - loss: 0.0073 - acc: 0.0109\n",
      "Epoch 14/100\n",
      " - 0s - loss: 0.0062 - acc: 0.0109\n",
      "Epoch 15/100\n",
      " - 0s - loss: 0.0051 - acc: 0.0109\n",
      "Epoch 16/100\n",
      " - 0s - loss: 0.0042 - acc: 0.0109\n",
      "Epoch 17/100\n",
      " - 0s - loss: 0.0034 - acc: 0.0109\n",
      "Epoch 18/100\n",
      " - 0s - loss: 0.0028 - acc: 0.0109\n",
      "Epoch 19/100\n",
      " - 0s - loss: 0.0025 - acc: 0.0109\n",
      "Epoch 20/100\n",
      " - 0s - loss: 0.0022 - acc: 0.0109\n",
      "Epoch 21/100\n",
      " - 0s - loss: 0.0021 - acc: 0.0109\n",
      "Epoch 22/100\n",
      " - 0s - loss: 0.0020 - acc: 0.0109\n",
      "Epoch 23/100\n",
      " - 0s - loss: 0.0019 - acc: 0.0109\n",
      "Epoch 24/100\n",
      " - 0s - loss: 0.0020 - acc: 0.0109\n",
      "Epoch 25/100\n",
      " - 0s - loss: 0.0020 - acc: 0.0109\n",
      "Epoch 26/100\n",
      " - 0s - loss: 0.0020 - acc: 0.0109\n",
      "Epoch 27/100\n",
      " - 0s - loss: 0.0020 - acc: 0.0109\n",
      "Epoch 28/100\n",
      " - 0s - loss: 0.0020 - acc: 0.0109\n",
      "Epoch 29/100\n",
      " - 0s - loss: 0.0020 - acc: 0.0109\n",
      "Epoch 30/100\n",
      " - 0s - loss: 0.0019 - acc: 0.0109\n",
      "Epoch 31/100\n",
      " - 0s - loss: 0.0020 - acc: 0.0109\n",
      "Epoch 32/100\n",
      " - 0s - loss: 0.0020 - acc: 0.0109\n",
      "Epoch 33/100\n",
      " - 0s - loss: 0.0020 - acc: 0.0109\n",
      "Epoch 34/100\n",
      " - 0s - loss: 0.0019 - acc: 0.0109\n",
      "Epoch 35/100\n",
      " - 0s - loss: 0.0020 - acc: 0.0109\n",
      "Epoch 36/100\n",
      " - 0s - loss: 0.0019 - acc: 0.0109\n",
      "Epoch 37/100\n",
      " - 0s - loss: 0.0019 - acc: 0.0109\n",
      "Epoch 38/100\n",
      " - 0s - loss: 0.0019 - acc: 0.0109\n",
      "Epoch 39/100\n",
      " - 0s - loss: 0.0019 - acc: 0.0109\n",
      "Epoch 40/100\n",
      " - 0s - loss: 0.0020 - acc: 0.0109\n",
      "Epoch 41/100\n",
      " - 0s - loss: 0.0020 - acc: 0.0109\n",
      "Epoch 42/100\n",
      " - 0s - loss: 0.0020 - acc: 0.0109\n",
      "Epoch 43/100\n",
      " - 0s - loss: 0.0019 - acc: 0.0109\n",
      "Epoch 44/100\n",
      " - 0s - loss: 0.0020 - acc: 0.0109\n",
      "Epoch 45/100\n",
      " - 0s - loss: 0.0019 - acc: 0.0109\n",
      "Epoch 46/100\n",
      " - 0s - loss: 0.0020 - acc: 0.0109\n",
      "Epoch 47/100\n",
      " - 0s - loss: 0.0019 - acc: 0.0109\n",
      "Epoch 48/100\n",
      " - 0s - loss: 0.0020 - acc: 0.0109\n",
      "Epoch 49/100\n",
      " - 0s - loss: 0.0019 - acc: 0.0109\n",
      "Epoch 50/100\n",
      " - 0s - loss: 0.0020 - acc: 0.0109\n",
      "Epoch 51/100\n",
      " - 0s - loss: 0.0020 - acc: 0.0109\n",
      "Epoch 52/100\n",
      " - 0s - loss: 0.0019 - acc: 0.0109\n",
      "Epoch 53/100\n",
      " - 0s - loss: 0.0019 - acc: 0.0109\n",
      "Epoch 54/100\n",
      " - 0s - loss: 0.0019 - acc: 0.0109\n",
      "Epoch 55/100\n",
      " - 0s - loss: 0.0020 - acc: 0.0109\n",
      "Epoch 56/100\n",
      " - 0s - loss: 0.0019 - acc: 0.0109\n",
      "Epoch 57/100\n",
      " - 0s - loss: 0.0019 - acc: 0.0109\n",
      "Epoch 58/100\n",
      " - 0s - loss: 0.0018 - acc: 0.0109\n",
      "Epoch 59/100\n",
      " - 0s - loss: 0.0020 - acc: 0.0109\n",
      "Epoch 60/100\n",
      " - 0s - loss: 0.0019 - acc: 0.0109\n",
      "Epoch 61/100\n",
      " - 0s - loss: 0.0020 - acc: 0.0109\n",
      "Epoch 62/100\n",
      " - 0s - loss: 0.0020 - acc: 0.0109\n",
      "Epoch 63/100\n",
      " - 0s - loss: 0.0019 - acc: 0.0109\n",
      "Epoch 64/100\n",
      " - 0s - loss: 0.0020 - acc: 0.0109\n",
      "Epoch 65/100\n",
      " - 0s - loss: 0.0019 - acc: 0.0109\n",
      "Epoch 66/100\n",
      " - 0s - loss: 0.0019 - acc: 0.0109\n",
      "Epoch 67/100\n",
      " - 0s - loss: 0.0019 - acc: 0.0109\n",
      "Epoch 68/100\n",
      " - 0s - loss: 0.0019 - acc: 0.0109\n",
      "Epoch 69/100\n",
      " - 0s - loss: 0.0019 - acc: 0.0109\n",
      "Epoch 70/100\n",
      " - 0s - loss: 0.0019 - acc: 0.0109\n",
      "Epoch 71/100\n",
      " - 0s - loss: 0.0020 - acc: 0.0109\n",
      "Epoch 72/100\n",
      " - 0s - loss: 0.0019 - acc: 0.0109\n",
      "Epoch 73/100\n",
      " - 0s - loss: 0.0019 - acc: 0.0109\n",
      "Epoch 74/100\n",
      " - 0s - loss: 0.0019 - acc: 0.0109\n",
      "Epoch 75/100\n",
      " - 0s - loss: 0.0020 - acc: 0.0109\n",
      "Epoch 76/100\n",
      " - 0s - loss: 0.0019 - acc: 0.0109\n",
      "Epoch 77/100\n",
      " - 0s - loss: 0.0020 - acc: 0.0109\n",
      "Epoch 78/100\n",
      " - 0s - loss: 0.0019 - acc: 0.0109\n",
      "Epoch 79/100\n",
      " - 0s - loss: 0.0020 - acc: 0.0109\n",
      "Epoch 80/100\n",
      " - 0s - loss: 0.0019 - acc: 0.0109\n",
      "Epoch 81/100\n",
      " - 0s - loss: 0.0020 - acc: 0.0109\n",
      "Epoch 82/100\n",
      " - 0s - loss: 0.0019 - acc: 0.0109\n",
      "Epoch 83/100\n",
      " - 0s - loss: 0.0019 - acc: 0.0109\n",
      "Epoch 84/100\n",
      " - 0s - loss: 0.0019 - acc: 0.0109\n",
      "Epoch 85/100\n",
      " - 0s - loss: 0.0020 - acc: 0.0109\n",
      "Epoch 86/100\n",
      " - 0s - loss: 0.0020 - acc: 0.0109\n",
      "Epoch 87/100\n",
      " - 0s - loss: 0.0019 - acc: 0.0109\n",
      "Epoch 88/100\n",
      " - 0s - loss: 0.0019 - acc: 0.0109\n",
      "Epoch 89/100\n",
      " - 0s - loss: 0.0020 - acc: 0.0109\n",
      "Epoch 90/100\n",
      " - 0s - loss: 0.0019 - acc: 0.0109\n",
      "Epoch 91/100\n",
      " - 0s - loss: 0.0020 - acc: 0.0109\n",
      "Epoch 92/100\n",
      " - 0s - loss: 0.0019 - acc: 0.0109\n",
      "Epoch 93/100\n",
      " - 0s - loss: 0.0019 - acc: 0.0109\n",
      "Epoch 94/100\n",
      " - 0s - loss: 0.0019 - acc: 0.0109\n",
      "Epoch 95/100\n",
      " - 0s - loss: 0.0019 - acc: 0.0109\n",
      "Epoch 96/100\n",
      " - 0s - loss: 0.0019 - acc: 0.0109\n",
      "Epoch 97/100\n",
      " - 0s - loss: 0.0019 - acc: 0.0109\n",
      "Epoch 98/100\n",
      " - 0s - loss: 0.0019 - acc: 0.0109\n",
      "Epoch 99/100\n",
      " - 0s - loss: 0.0020 - acc: 0.0109\n",
      "Epoch 100/100\n",
      " - 0s - loss: 0.0020 - acc: 0.0109\n"
     ]
    },
    {
     "data": {
      "text/plain": [
       "<keras.callbacks.History at 0x1f1c8cbc518>"
      ]
     },
     "execution_count": 12,
     "metadata": {},
     "output_type": "execute_result"
    }
   ],
   "source": [
    "# create and fit the LSTM network\n",
    "model = Sequential()\n",
    "model.add(LSTM(4, input_dim=look_back))\n",
    "model.add(Dense(1))\n",
    "model.compile(loss='mean_squared_error', optimizer='adam', metrics=['accuracy'])\n",
    "model.fit(trainX, trainY, nb_epoch=100, batch_size=1, verbose=2)"
   ]
  },
  {
   "cell_type": "code",
   "execution_count": 13,
   "metadata": {
    "ExecuteTime": {
     "end_time": "2019-11-06T13:38:54.214761Z",
     "start_time": "2019-11-06T13:38:54.104916Z"
    }
   },
   "outputs": [],
   "source": [
    "# make predictions\n",
    "trainPredict = model.predict(trainX)\n",
    "testPredict = model.predict(testX)"
   ]
  },
  {
   "cell_type": "code",
   "execution_count": 14,
   "metadata": {
    "ExecuteTime": {
     "end_time": "2019-11-06T13:38:54.401124Z",
     "start_time": "2019-11-06T13:38:54.396136Z"
    }
   },
   "outputs": [],
   "source": [
    "# invert predictions\n",
    "trainPredict = scaler.inverse_transform(trainPredict)\n",
    "trainY = scaler.inverse_transform([trainY])\n",
    "testPredict = scaler.inverse_transform(testPredict)\n",
    "testY = scaler.inverse_transform([testY])"
   ]
  },
  {
   "cell_type": "code",
   "execution_count": 15,
   "metadata": {
    "ExecuteTime": {
     "end_time": "2019-11-06T13:38:54.738221Z",
     "start_time": "2019-11-06T13:38:54.725256Z"
    }
   },
   "outputs": [
    {
     "name": "stdout",
     "output_type": "stream",
     "text": [
      "[117.99999916 131.99999879 129.00000163 120.99999632 135.00000368\n",
      " 147.99999397 147.99999397 136.00000531 119.00000078 103.99999952\n",
      " 117.99999916 115.00000199 125.99999674 140.99999801 135.00000368\n",
      " 125.00000283 148.9999956  169.99999891 169.99999891 157.99999481\n",
      " 133.00000042 114.00000036 139.99999638 145.00000452 149.99999723\n",
      " 177.9999965  163.00000295 172.00000217 177.9999965  198.99999982\n",
      " 198.99999982 184.00000627 162.00000133 146.00000615 165.9999924\n",
      " 171.00000054 179.99999976 193.00000549 181.00000139 183.00000464\n",
      " 217.99999988 230.00000398 241.99999264 209.00000066 191.00000223\n",
      " 172.00000217 194.00000712 195.99999493 195.99999493 235.99999831\n",
      " 234.99999668 229.00000235 242.99999427 263.99999759 272.00001061\n",
      " 236.99999994 211.00000392 179.99999976 201.00000308 203.99999252\n",
      " 187.99999735 234.99999668 226.9999991  233.99999506 263.99999759\n",
      " 301.99999771 292.99999849 259.00000488 229.00000235 203.00000633\n",
      " 229.00000235 241.99999264 232.99999343 266.99998703 268.99999029\n",
      " 270.00000736 315.00000344 363.99999059 346.99999379 312.00001399\n",
      " 274.00001387 236.99999994 277.99998951 283.99999928 277.00000332\n",
      " 317.00000669 313.00000018 317.99999288 373.999976   412.99999319\n",
      " 404.99998016 355.00000681]\n",
      "[121.5716   127.00668  139.8102   137.05272  129.7362   142.57494\n",
      " 154.63615  154.63615  143.49811  127.91566  114.376175 127.00668\n",
      " 124.28511  134.30269  148.12569  142.57494  133.3877   155.56915\n",
      " 175.31921  175.31921  163.99776  140.73097  123.37971  147.19862\n",
      " 151.84152  156.50287  182.91534  168.70392  177.21478  182.91534\n",
      " 203.01584  203.01584  188.63583  167.7614   152.77234  171.53532\n",
      " 176.2667   184.82004  197.25113  185.77318  187.68112  221.36702\n",
      " 233.0191   244.70706  212.65755  195.33319  177.21478  198.21077\n",
      " 200.13145  200.13145  238.85922  237.8853   232.0466   245.68234\n",
      " 266.1951   274.01868  239.83337  214.59053  184.82004  204.94095\n",
      " 207.83168  192.45992  237.8853   230.10233  236.91159  266.1951\n",
      " 303.34058  294.5516   261.30695  232.0466   206.86769  232.0466\n",
      " 244.70706  235.93813  269.12863  271.08456  272.06256  316.0136\n",
      " 363.3729   347.03387  313.0919   275.97476  239.83337  279.8869\n",
      " 285.7544   278.9089   317.96036  314.06598  318.9334   372.92725\n",
      " 409.70837  402.23175 ]\n",
      "Train Score: 22.31 RMSE\n",
      "[306.00000422 315.00000344 301.00001152 355.999993   348.00001085\n",
      " 355.00000681 421.9999924  465.0000161  466.99998848 403.99999397\n",
      " 346.99999379 304.99998716 335.99999132 339.99999783 317.99999288\n",
      " 362.00000277 348.00001085 362.99998896 434.99999813 491.00002756\n",
      " 505.00001948 403.99999397 359.00001333 310.00001073 337.00000838\n",
      " 359.99999952 342.00000109 406.0000281  395.99998094 420.00002002\n",
      " 471.99998119 548.00004318 559.00001477 462.99998197 407.00001429\n",
      " 362.00000277 404.99998016 416.9999997  390.99998824 418.99997208\n",
      " 461.00000959 471.99998119 535.00003745 622.00000929 606.00004499]\n",
      "[273.04056 307.24313 316.0136  302.36453 355.69824 347.9981  354.7371\n",
      " 418.07352 457.3093  459.1029  401.29456 347.03387 306.26773 336.40488\n",
      " 340.27466 318.9334  361.45673 347.9981  362.41504 430.06662 480.39444\n",
      " 492.61176 401.29456 358.57935 311.14304 337.3728  359.53888 342.20758\n",
      " 403.16846 393.77664 416.21896 463.574   529.1624  538.27094 455.51273\n",
      " 404.1044  361.45673 402.23175 413.43234 389.0601  415.29068 453.71344\n",
      " 463.574   518.26965 588.512  ]\n",
      "Test Score: 45.58 RMSE\n"
     ]
    }
   ],
   "source": [
    "# calculate root mean squared error\n",
    "trainScore = math.sqrt(mean_squared_error(trainY[0], trainPredict[:,0]))\n",
    "print(trainY[0])\n",
    "print(trainPredict[:,0])\n",
    "print('Train Score: %.2f RMSE' % (trainScore))\n",
    "testScore = math.sqrt(mean_squared_error(testY[0], testPredict[:,0]))\n",
    "print(testY[0])\n",
    "print(testPredict[:,0])\n",
    "print('Test Score: %.2f RMSE' % (testScore))"
   ]
  },
  {
   "cell_type": "code",
   "execution_count": 16,
   "metadata": {
    "ExecuteTime": {
     "end_time": "2019-11-06T13:38:59.202272Z",
     "start_time": "2019-11-06T13:38:59.025746Z"
    }
   },
   "outputs": [
    {
     "data": {
      "image/png": "[encoded data removed]",
      "text/plain": [
       "<Figure size 432x288 with 1 Axes>"
      ]
     },
     "metadata": {
      "needs_background": "light"
     },
     "output_type": "display_data"
    }
   ],
   "source": [
    "# shift train predictions for plotting\n",
    "trainPredictPlot = numpy.empty_like(dataset)\n",
    "trainPredictPlot[:, :] = numpy.nan\n",
    "trainPredictPlot[look_back:len(trainPredict)+look_back, :] = trainPredict\n",
    "# shift test predictions for plotting\n",
    "testPredictPlot = numpy.empty_like(dataset)\n",
    "testPredictPlot[:, :] = numpy.nan\n",
    "testPredictPlot[len(trainPredict)+(look_back*2)+1:len(dataset)-1, :] = testPredict\n",
    "# plot baseline and predictions\n",
    "plt.plot(scaler.inverse_transform(dataset))\n",
    "plt.plot(trainPredictPlot)\n",
    "plt.plot(testPredictPlot)\n",
    "plt.show()"
   ]
  },
  {
   "cell_type": "code",
   "execution_count": null,
   "metadata": {},
   "outputs": [],
   "source": []
  }
 ],
 "metadata": {
  "hide_input": false,
  "kernelspec": {
   "display_name": "Python 3",
   "language": "python",
   "name": "python3"
  },
  "language_info": {
   "codemirror_mode": {
    "name": "ipython",
    "version": 3
   },
   "file_extension": ".py",
   "mimetype": "text/x-python",
   "name": "python",
   "nbconvert_exporter": "python",
   "pygments_lexer": "ipython3",
   "version": "3.6.9"
  }
 },
 "nbformat": 4,
 "nbformat_minor": 2
}
