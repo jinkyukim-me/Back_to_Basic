{
 "cells": [
  {
   "cell_type": "code",
   "execution_count": 1,
   "metadata": {
    "ExecuteTime": {
     "end_time": "2019-11-06T13:16:14.522715Z",
     "start_time": "2019-11-06T13:16:05.386132Z"
    }
   },
   "outputs": [
    {
     "name": "stderr",
     "output_type": "stream",
     "text": [
      "Using TensorFlow backend.\n"
     ]
    }
   ],
   "source": [
    "# Packages\n",
    "import keras\n",
    "import numpy as np\n",
    "from keras.models import Sequential\n",
    "from keras.layers import Dense, LSTM, Dropout\n",
    "from sklearn.preprocessing import MinMaxScaler\n",
    "import matplotlib.pyplot as plt\n",
    "%matplotlib inline\n",
    "import random\n",
    "\n",
    "def create_dataset(signal_data, look_back=1):\n",
    "    dataX, dataY = [], []\n",
    "    for i in range(len(signal_data)-look_back):\n",
    "        dataX.append(signal_data[i:(i+look_back), 0])\n",
    "        dataY.append(signal_data[i + look_back, 0])\n",
    "    return np.array(dataX), np.array(dataY)\n",
    "\n",
    "class CustomHistory(keras.callbacks.Callback):\n",
    "    def init(self):\n",
    "        self.train_loss = []\n",
    "        self.test_loss = []\n",
    "        \n",
    "    def on_epoch_end(self, batch, logs={}):\n",
    "        self.train_loss.append(logs.get('loss'))\n",
    "        self.test_loss.append(logs.get('test_loss'))\n",
    "\n",
    "look_back = 10"
   ]
  },
  {
   "cell_type": "code",
   "execution_count": 2,
   "metadata": {
    "ExecuteTime": {
     "end_time": "2019-11-06T13:16:14.531693Z",
     "start_time": "2019-11-06T13:16:14.524674Z"
    }
   },
   "outputs": [],
   "source": [
    "# Making Dataset\n",
    "signal_data = []\n",
    "for i in range(365):\n",
    "    random_5 = random.randint(1,5)\n",
    "    signal_data.append(random_5)\n",
    "signal_data=np.array(signal_data)\n",
    "signal_data=signal_data[:,None]"
   ]
  },
  {
   "cell_type": "code",
   "execution_count": 3,
   "metadata": {
    "ExecuteTime": {
     "end_time": "2019-11-06T13:16:14.546636Z",
     "start_time": "2019-11-06T13:16:14.536642Z"
    }
   },
   "outputs": [],
   "source": [
    "# Preprocessing\n",
    "scaler = MinMaxScaler(feature_range=(1, 5))\n",
    "signal_data = scaler.fit_transform(signal_data)"
   ]
  },
  {
   "cell_type": "code",
   "execution_count": 4,
   "metadata": {
    "ExecuteTime": {
     "end_time": "2019-11-06T13:16:14.559580Z",
     "start_time": "2019-11-06T13:16:14.551603Z"
    }
   },
   "outputs": [],
   "source": [
    "# Train & Test\n",
    "train = signal_data[0:290]\n",
    "test = signal_data[290:]"
   ]
  },
  {
   "cell_type": "code",
   "execution_count": 5,
   "metadata": {
    "ExecuteTime": {
     "end_time": "2019-11-06T13:16:14.572558Z",
     "start_time": "2019-11-06T13:16:14.562597Z"
    }
   },
   "outputs": [],
   "source": [
    "# Dataset\n",
    "x_train, y_train = create_dataset(train, look_back)\n",
    "x_test, y_test = create_dataset(test, look_back)"
   ]
  },
  {
   "cell_type": "code",
   "execution_count": 6,
   "metadata": {
    "ExecuteTime": {
     "end_time": "2019-11-06T13:16:14.585536Z",
     "start_time": "2019-11-06T13:16:14.575547Z"
    }
   },
   "outputs": [],
   "source": [
    "# Preprocessing\n",
    "x_train = np.reshape(x_train, (x_train.shape[0], x_train.shape[1], 1))\n",
    "x_test = np.reshape(x_test, (x_test.shape[0], x_test.shape[1], 1))"
   ]
  },
  {
   "cell_type": "code",
   "execution_count": 7,
   "metadata": {
    "ExecuteTime": {
     "end_time": "2019-11-06T13:16:15.136069Z",
     "start_time": "2019-11-06T13:16:14.588503Z"
    }
   },
   "outputs": [],
   "source": [
    "# LSTM Model\n",
    "model = Sequential()\n",
    "for i in range(2):\n",
    "    model.add(LSTM(32, batch_input_shape=(1, look_back, 1), stateful=True, return_sequences=True))\n",
    "    model.add(Dropout(0.5))\n",
    "model.add(LSTM(32, batch_input_shape=(1, look_back, 1), stateful=True))\n",
    "model.add(Dropout(0.5))\n",
    "model.add(Dense(1))"
   ]
  },
  {
   "cell_type": "code",
   "execution_count": 8,
   "metadata": {
    "ExecuteTime": {
     "end_time": "2019-11-06T13:16:15.174933Z",
     "start_time": "2019-11-06T13:16:15.139064Z"
    }
   },
   "outputs": [],
   "source": [
    "# model\n",
    "model.compile(loss='mean_squared_error', optimizer='adam', metrics=['accuracy'])"
   ]
  },
  {
   "cell_type": "code",
   "execution_count": 9,
   "metadata": {
    "ExecuteTime": {
     "end_time": "2019-11-06T13:18:12.878929Z",
     "start_time": "2019-11-06T13:16:15.177926Z"
    }
   },
   "outputs": [
    {
     "name": "stdout",
     "output_type": "stream",
     "text": [
      "Epoch 1/1\n",
      "280/280 [==============================] - 5s 17ms/step - loss: 3.5341 - acc: 0.1786\n",
      "Epoch 1/1\n",
      "280/280 [==============================] - 4s 13ms/step - loss: 2.5313 - acc: 0.1786: 0s - loss: 2\n",
      "Epoch 1/1\n",
      "280/280 [==============================] - 4s 13ms/step - loss: 2.5416 - acc: 0.1857\n",
      "Epoch 1/1\n",
      "280/280 [==============================] - 4s 13ms/step - loss: 2.4277 - acc: 0.2071\n",
      "Epoch 1/1\n",
      "280/280 [==============================] - 4s 13ms/step - loss: 2.3464 - acc: 0.2000\n",
      "Epoch 1/1\n",
      "280/280 [==============================] - 4s 13ms/step - loss: 2.4930 - acc: 0.2000\n",
      "Epoch 1/1\n",
      "280/280 [==============================] - 4s 13ms/step - loss: 2.3111 - acc: 0.2429\n",
      "Epoch 1/1\n",
      "280/280 [==============================] - 4s 13ms/step - loss: 2.5662 - acc: 0.1607\n",
      "Epoch 1/1\n",
      "280/280 [==============================] - 4s 13ms/step - loss: 2.4426 - acc: 0.1857\n",
      "Epoch 1/1\n",
      "280/280 [==============================] - 4s 13ms/step - loss: 2.1795 - acc: 0.2214\n",
      "Epoch 1/1\n",
      "280/280 [==============================] - 4s 13ms/step - loss: 2.4759 - acc: 0.1714\n",
      "Epoch 1/1\n",
      "280/280 [==============================] - 4s 13ms/step - loss: 2.4908 - acc: 0.1893\n",
      "Epoch 1/1\n",
      "280/280 [==============================] - 4s 13ms/step - loss: 2.2603 - acc: 0.2179\n",
      "Epoch 1/1\n",
      "280/280 [==============================] - 4s 13ms/step - loss: 2.4604 - acc: 0.1786\n",
      "Epoch 1/1\n",
      "280/280 [==============================] - 4s 13ms/step - loss: 2.5064 - acc: 0.2000\n",
      "Epoch 1/1\n",
      "280/280 [==============================] - 4s 13ms/step - loss: 2.4650 - acc: 0.2571\n",
      "Epoch 1/1\n",
      "280/280 [==============================] - 4s 13ms/step - loss: 2.3938 - acc: 0.2036\n",
      "Epoch 1/1\n",
      "280/280 [==============================] - 4s 13ms/step - loss: 2.3344 - acc: 0.2179\n",
      "Epoch 1/1\n",
      "280/280 [==============================] - 4s 13ms/step - loss: 2.2978 - acc: 0.2393\n",
      "Epoch 1/1\n",
      "280/280 [==============================] - 4s 13ms/step - loss: 2.4736 - acc: 0.2071\n",
      "Epoch 1/1\n",
      "280/280 [==============================] - 4s 13ms/step - loss: 2.3854 - acc: 0.1821\n",
      "Epoch 1/1\n",
      "280/280 [==============================] - 4s 13ms/step - loss: 2.2216 - acc: 0.1893\n",
      "Epoch 1/1\n",
      "280/280 [==============================] - 4s 13ms/step - loss: 2.2833 - acc: 0.2143\n",
      "Epoch 1/1\n",
      "280/280 [==============================] - 4s 13ms/step - loss: 2.3542 - acc: 0.1929\n",
      "Epoch 1/1\n",
      "280/280 [==============================] - 4s 13ms/step - loss: 2.3557 - acc: 0.2071\n",
      "Epoch 1/1\n",
      "280/280 [==============================] - 4s 13ms/step - loss: 2.2816 - acc: 0.2071\n",
      "Epoch 1/1\n",
      "280/280 [==============================] - 4s 13ms/step - loss: 2.3005 - acc: 0.2286\n",
      "Epoch 1/1\n",
      "280/280 [==============================] - 7s 25ms/step - loss: 2.2977 - acc: 0.2286\n",
      "Epoch 1/1\n",
      "280/280 [==============================] - 6s 21ms/step - loss: 2.3929 - acc: 0.2179\n",
      "Epoch 1/1\n",
      "280/280 [==============================] - 5s 18ms/step - loss: 2.2821 - acc: 0.2464\n"
     ]
    }
   ],
   "source": [
    "# learning\n",
    "custom_hist = CustomHistory()\n",
    "custom_hist.init()\n",
    "\n",
    "for i in range(30):\n",
    "    model.fit(x_train, y_train, epochs=1, batch_size=1, shuffle=False, callbacks=[custom_hist])\n",
    "    model.reset_states()"
   ]
  },
  {
   "cell_type": "code",
   "execution_count": 10,
   "metadata": {
    "ExecuteTime": {
     "end_time": "2019-11-06T13:18:13.103331Z",
     "start_time": "2019-11-06T13:18:12.881923Z"
    }
   },
   "outputs": [
    {
     "data": {
      "image/png": "[encoded data removed]",
      "text/plain": [
       "<Figure size 432x288 with 1 Axes>"
      ]
     },
     "metadata": {
      "needs_background": "light"
     },
     "output_type": "display_data"
    }
   ],
   "source": [
    "plt.plot(custom_hist.train_loss)\n",
    "plt.plot(custom_hist.test_loss)\n",
    "plt.ylim(0.0, 5.0)\n",
    "plt.ylabel('loss')\n",
    "plt.xlabel('epoch')\n",
    "plt.legend(['train', 'test'], loc='upper left')\n",
    "plt.show()"
   ]
  },
  {
   "cell_type": "code",
   "execution_count": 11,
   "metadata": {
    "ExecuteTime": {
     "end_time": "2019-11-06T13:18:13.566119Z",
     "start_time": "2019-11-06T13:18:13.105329Z"
    }
   },
   "outputs": [
    {
     "ename": "ValueError",
     "evalue": "In a stateful network, you should only pass inputs with a number of samples that can be divided by the batch size. Found: 280 samples",
     "output_type": "error",
     "traceback": [
      "\u001b[1;31m---------------------------------------------------------------------------\u001b[0m",
      "\u001b[1;31mValueError\u001b[0m                                Traceback (most recent call last)",
      "\u001b[1;32m<ipython-input-11-63e5e8a1259b>\u001b[0m in \u001b[0;36m<module>\u001b[1;34m\u001b[0m\n\u001b[1;32m----> 1\u001b[1;33m \u001b[0mtrainScore\u001b[0m \u001b[1;33m=\u001b[0m \u001b[0mmodel\u001b[0m\u001b[1;33m.\u001b[0m\u001b[0mevaluate\u001b[0m\u001b[1;33m(\u001b[0m\u001b[0mx_train\u001b[0m\u001b[1;33m,\u001b[0m \u001b[0my_train\u001b[0m\u001b[1;33m)\u001b[0m\u001b[1;33m\u001b[0m\u001b[1;33m\u001b[0m\u001b[0m\n\u001b[0m\u001b[0;32m      2\u001b[0m \u001b[0mmodel\u001b[0m\u001b[1;33m.\u001b[0m\u001b[0mreset_states\u001b[0m\u001b[1;33m(\u001b[0m\u001b[1;33m)\u001b[0m\u001b[1;33m\u001b[0m\u001b[1;33m\u001b[0m\u001b[0m\n\u001b[0;32m      3\u001b[0m \u001b[0mprint\u001b[0m\u001b[1;33m(\u001b[0m\u001b[1;34m'Train Score: '\u001b[0m\u001b[1;33m,\u001b[0m \u001b[0mtrainScore\u001b[0m\u001b[1;33m)\u001b[0m\u001b[1;33m\u001b[0m\u001b[1;33m\u001b[0m\u001b[0m\n\u001b[0;32m      4\u001b[0m \u001b[0mtestScore\u001b[0m \u001b[1;33m=\u001b[0m \u001b[0mmodel\u001b[0m\u001b[1;33m.\u001b[0m\u001b[0mevaluate\u001b[0m\u001b[1;33m(\u001b[0m\u001b[0mx_test\u001b[0m\u001b[1;33m,\u001b[0m \u001b[0my_test\u001b[0m\u001b[1;33m)\u001b[0m\u001b[1;33m\u001b[0m\u001b[1;33m\u001b[0m\u001b[0m\n\u001b[0;32m      5\u001b[0m \u001b[0mmodel\u001b[0m\u001b[1;33m.\u001b[0m\u001b[0mreset_states\u001b[0m\u001b[1;33m(\u001b[0m\u001b[1;33m)\u001b[0m\u001b[1;33m\u001b[0m\u001b[1;33m\u001b[0m\u001b[0m\n",
      "\u001b[1;32m~\\Miniconda3\\envs\\tensorflow\\lib\\site-packages\\keras\\models.py\u001b[0m in \u001b[0;36mevaluate\u001b[1;34m(self, x, y, batch_size, verbose, sample_weight, steps)\u001b[0m\n\u001b[0;32m   1002\u001b[0m                                    \u001b[0mverbose\u001b[0m\u001b[1;33m=\u001b[0m\u001b[0mverbose\u001b[0m\u001b[1;33m,\u001b[0m\u001b[1;33m\u001b[0m\u001b[1;33m\u001b[0m\u001b[0m\n\u001b[0;32m   1003\u001b[0m                                    \u001b[0msample_weight\u001b[0m\u001b[1;33m=\u001b[0m\u001b[0msample_weight\u001b[0m\u001b[1;33m,\u001b[0m\u001b[1;33m\u001b[0m\u001b[1;33m\u001b[0m\u001b[0m\n\u001b[1;32m-> 1004\u001b[1;33m                                    steps=steps)\n\u001b[0m\u001b[0;32m   1005\u001b[0m \u001b[1;33m\u001b[0m\u001b[0m\n\u001b[0;32m   1006\u001b[0m     \u001b[1;32mdef\u001b[0m \u001b[0mpredict\u001b[0m\u001b[1;33m(\u001b[0m\u001b[0mself\u001b[0m\u001b[1;33m,\u001b[0m \u001b[0mx\u001b[0m\u001b[1;33m,\u001b[0m \u001b[0mbatch_size\u001b[0m\u001b[1;33m=\u001b[0m\u001b[1;32mNone\u001b[0m\u001b[1;33m,\u001b[0m \u001b[0mverbose\u001b[0m\u001b[1;33m=\u001b[0m\u001b[1;36m0\u001b[0m\u001b[1;33m,\u001b[0m \u001b[0msteps\u001b[0m\u001b[1;33m=\u001b[0m\u001b[1;32mNone\u001b[0m\u001b[1;33m)\u001b[0m\u001b[1;33m:\u001b[0m\u001b[1;33m\u001b[0m\u001b[1;33m\u001b[0m\u001b[0m\n",
      "\u001b[1;32m~\\Miniconda3\\envs\\tensorflow\\lib\\site-packages\\keras\\engine\\training.py\u001b[0m in \u001b[0;36mevaluate\u001b[1;34m(self, x, y, batch_size, verbose, sample_weight, steps)\u001b[0m\n\u001b[0;32m   1766\u001b[0m             \u001b[0mx\u001b[0m\u001b[1;33m,\u001b[0m \u001b[0my\u001b[0m\u001b[1;33m,\u001b[0m\u001b[1;33m\u001b[0m\u001b[1;33m\u001b[0m\u001b[0m\n\u001b[0;32m   1767\u001b[0m             \u001b[0msample_weight\u001b[0m\u001b[1;33m=\u001b[0m\u001b[0msample_weight\u001b[0m\u001b[1;33m,\u001b[0m\u001b[1;33m\u001b[0m\u001b[1;33m\u001b[0m\u001b[0m\n\u001b[1;32m-> 1768\u001b[1;33m             batch_size=batch_size)\n\u001b[0m\u001b[0;32m   1769\u001b[0m         \u001b[1;31m# Prepare inputs, delegate logic to `_test_loop`.\u001b[0m\u001b[1;33m\u001b[0m\u001b[1;33m\u001b[0m\u001b[1;33m\u001b[0m\u001b[0m\n\u001b[0;32m   1770\u001b[0m         \u001b[1;32mif\u001b[0m \u001b[0mself\u001b[0m\u001b[1;33m.\u001b[0m\u001b[0muses_learning_phase\u001b[0m \u001b[1;32mand\u001b[0m \u001b[1;32mnot\u001b[0m \u001b[0misinstance\u001b[0m\u001b[1;33m(\u001b[0m\u001b[0mK\u001b[0m\u001b[1;33m.\u001b[0m\u001b[0mlearning_phase\u001b[0m\u001b[1;33m(\u001b[0m\u001b[1;33m)\u001b[0m\u001b[1;33m,\u001b[0m \u001b[0mint\u001b[0m\u001b[1;33m)\u001b[0m\u001b[1;33m:\u001b[0m\u001b[1;33m\u001b[0m\u001b[1;33m\u001b[0m\u001b[0m\n",
      "\u001b[1;32m~\\Miniconda3\\envs\\tensorflow\\lib\\site-packages\\keras\\engine\\training.py\u001b[0m in \u001b[0;36m_standardize_user_data\u001b[1;34m(self, x, y, sample_weight, class_weight, check_array_lengths, batch_size)\u001b[0m\n\u001b[0;32m   1498\u001b[0m                                  \u001b[1;34m'a number of samples that can be '\u001b[0m\u001b[1;33m\u001b[0m\u001b[1;33m\u001b[0m\u001b[0m\n\u001b[0;32m   1499\u001b[0m                                  \u001b[1;34m'divided by the batch size. Found: '\u001b[0m \u001b[1;33m+\u001b[0m\u001b[1;33m\u001b[0m\u001b[1;33m\u001b[0m\u001b[0m\n\u001b[1;32m-> 1500\u001b[1;33m                                  str(x[0].shape[0]) + ' samples')\n\u001b[0m\u001b[0;32m   1501\u001b[0m         \u001b[1;32mreturn\u001b[0m \u001b[0mx\u001b[0m\u001b[1;33m,\u001b[0m \u001b[0my\u001b[0m\u001b[1;33m,\u001b[0m \u001b[0msample_weights\u001b[0m\u001b[1;33m\u001b[0m\u001b[1;33m\u001b[0m\u001b[0m\n\u001b[0;32m   1502\u001b[0m \u001b[1;33m\u001b[0m\u001b[0m\n",
      "\u001b[1;31mValueError\u001b[0m: In a stateful network, you should only pass inputs with a number of samples that can be divided by the batch size. Found: 280 samples"
     ]
    }
   ],
   "source": [
    "trainScore = model.evaluate(x_train, y_train)\n",
    "model.reset_states()\n",
    "print('Train Score: ', trainScore)\n",
    "testScore = model.evaluate(x_test, y_test)\n",
    "model.reset_states()\n",
    "print('Test Score: ', testScore)"
   ]
  },
  {
   "cell_type": "code",
   "execution_count": null,
   "metadata": {
    "ExecuteTime": {
     "end_time": "2019-11-06T13:18:13.568118Z",
     "start_time": "2019-11-06T13:16:05.408Z"
    }
   },
   "outputs": [],
   "source": [
    "look_ahead = 10\n",
    "xhat = x_test[0]\n",
    "predictions = np.zeros((look_ahead,1))\n",
    "for i in range(look_ahead):\n",
    "    prediction = model.predict(np.array([xhat]), batch_size=1)\n",
    "    predictions[i] = prediction\n",
    "    xhat = np.vstack([xhat[1:],prediction])"
   ]
  },
  {
   "cell_type": "code",
   "execution_count": null,
   "metadata": {
    "ExecuteTime": {
     "end_time": "2019-11-06T13:18:13.569081Z",
     "start_time": "2019-11-06T13:16:05.409Z"
    }
   },
   "outputs": [],
   "source": [
    "plt.figure(figsize=(12,5))\n",
    "plt.plot(np.arange(look_ahead),predictions,'r',label=\"prediction\")\n",
    "plt.plot(np.arange(look_ahead),y_test[:look_ahead],label=\"test function\")\n",
    "plt.legend()\n",
    "plt.show()"
   ]
  },
  {
   "cell_type": "code",
   "execution_count": null,
   "metadata": {},
   "outputs": [],
   "source": []
  },
  {
   "cell_type": "code",
   "execution_count": null,
   "metadata": {},
   "outputs": [],
   "source": []
  },
  {
   "cell_type": "code",
   "execution_count": null,
   "metadata": {},
   "outputs": [],
   "source": []
  }
 ],
 "metadata": {
  "hide_input": false,
  "kernelspec": {
   "display_name": "Python 3",
   "language": "python",
   "name": "python3"
  },
  "language_info": {
   "codemirror_mode": {
    "name": "ipython",
    "version": 3
   },
   "file_extension": ".py",
   "mimetype": "text/x-python",
   "name": "python",
   "nbconvert_exporter": "python",
   "pygments_lexer": "ipython3",
   "version": "3.6.9"
  }
 },
 "nbformat": 4,
 "nbformat_minor": 2
}
