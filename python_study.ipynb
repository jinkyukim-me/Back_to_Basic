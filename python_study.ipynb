{
 "cells": [
  {
   "cell_type": "code",
   "execution_count": 1,
   "metadata": {
    "ExecuteTime": {
     "end_time": "2019-11-05T11:26:39.652308Z",
     "start_time": "2019-11-05T11:26:39.645324Z"
    }
   },
   "outputs": [
    {
     "name": "stdout",
     "output_type": "stream",
     "text": [
      "바밤바는\n",
      "밤이 들어간\n",
      "바이다.\n"
     ]
    }
   ],
   "source": [
    "print(\"바밤바는\")\n",
    "print(\"밤이 들어간\")\n",
    "print(\"바이다.\")"
   ]
  },
  {
   "cell_type": "code",
   "execution_count": 3,
   "metadata": {
    "ExecuteTime": {
     "end_time": "2019-11-05T11:27:54.516018Z",
     "start_time": "2019-11-05T11:27:54.512029Z"
    }
   },
   "outputs": [
    {
     "name": "stdout",
     "output_type": "stream",
     "text": [
      "바밤바는\n",
      "밤이 들어간\n",
      "바이다.\n"
     ]
    }
   ],
   "source": [
    "print(\"바밤바는\\n밤이 들어간\\n바이다.\")"
   ]
  },
  {
   "cell_type": "code",
   "execution_count": 4,
   "metadata": {
    "ExecuteTime": {
     "end_time": "2019-11-05T11:40:11.568862Z",
     "start_time": "2019-11-05T11:40:11.562877Z"
    },
    "scrolled": true
   },
   "outputs": [
    {
     "name": "stdout",
     "output_type": "stream",
     "text": [
      "[50, 50]\n"
     ]
    }
   ],
   "source": [
    "print([50]+[50])"
   ]
  },
  {
   "cell_type": "code",
   "execution_count": null,
   "metadata": {},
   "outputs": [],
   "source": [
    "x + 829176 - 4927819 * 243 / 1024 = 23571"
   ]
  },
  {
   "cell_type": "code",
   "execution_count": 10,
   "metadata": {
    "ExecuteTime": {
     "end_time": "2019-11-05T11:46:00.224526Z",
     "start_time": "2019-11-05T11:46:00.218503Z"
    }
   },
   "outputs": [
    {
     "name": "stdout",
     "output_type": "stream",
     "text": [
      "4197971.0\n"
     ]
    }
   ],
   "source": [
    "print((((23571*1024) / 243) + 4927819) - 829176)"
   ]
  },
  {
   "cell_type": "code",
   "execution_count": null,
   "metadata": {},
   "outputs": [],
   "source": []
  }
 ],
 "metadata": {
  "hide_input": false,
  "kernelspec": {
   "display_name": "Python 3",
   "language": "python",
   "name": "python3"
  },
  "language_info": {
   "codemirror_mode": {
    "name": "ipython",
    "version": 3
   },
   "file_extension": ".py",
   "mimetype": "text/x-python",
   "name": "python",
   "nbconvert_exporter": "python",
   "pygments_lexer": "ipython3",
   "version": "3.6.9"
  }
 },
 "nbformat": 4,
 "nbformat_minor": 2
}
